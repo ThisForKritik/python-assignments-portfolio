{
 "cells": [
  {
   "cell_type": "code",
   "execution_count": 28,
   "id": "4be9477d-5c17-463e-8dd5-9a080c363261",
   "metadata": {},
   "outputs": [
    {
     "name": "stdout",
     "output_type": "stream",
     "text": [
      "a = -1.0   n = 1   error_bound = -1.0\n",
      "a = 0.0   n = 1   error_bound = 0.0\n",
      "a = 0.24498697916666665   n = 3   error_bound = 0.0001953125\n",
      "a = 0.46368427579365074   n = 5   error_bound = 0.00021701388888888888\n",
      "a = 0.6435394700943785   n = 11   error_bound = 0.00011325756924764261\n",
      "a = 0.7853481633979478   n = 5000   error_bound = 0.00010001000100010001\n"
     ]
    }
   ],
   "source": [
    "x_values = [-1, 0, 0.25, 0.5, 0.75, 1]\n",
    "y_values = []\n",
    "\n",
    "def approximate():\n",
    "    for x in x_values:        \n",
    "        # Calculate n.\n",
    "        n = 1\n",
    "        while ((x**(2*n+1)) / (2*n+1)) > 0.0001:\n",
    "            n += 1\n",
    "\n",
    "        # Calculate the approximate y values.\n",
    "        y_forx = []\n",
    "        for i in range(n):\n",
    "            y_fori = ((-1)**i * x**(2*i+1)) / (2*i+1)\n",
    "            y_forx.append(y_fori)\n",
    "        y_values.append(sum(y_forx)) \n",
    "\n",
    "        print(\"a =\", sum(y_forx), \"  n =\", n, \"  error_bound =\", (x**(2*(n-1)+1)) / (2*(n-1)+1))\n",
    "    \n",
    "approximate()"
   ]
  },
  {
   "cell_type": "code",
   "execution_count": null,
   "id": "891efc94-b1e7-4db1-b0d2-48bd7b97eec9",
   "metadata": {},
   "outputs": [],
   "source": []
  },
  {
   "cell_type": "code",
   "execution_count": null,
   "id": "54e08754-8a12-46b7-a126-1a1fa8932d02",
   "metadata": {},
   "outputs": [],
   "source": []
  }
 ],
 "metadata": {
  "kernelspec": {
   "display_name": "Python 3 (ipykernel)",
   "language": "python",
   "name": "python3"
  },
  "language_info": {
   "codemirror_mode": {
    "name": "ipython",
    "version": 3
   },
   "file_extension": ".py",
   "mimetype": "text/x-python",
   "name": "python",
   "nbconvert_exporter": "python",
   "pygments_lexer": "ipython3",
   "version": "3.11.4"
  }
 },
 "nbformat": 4,
 "nbformat_minor": 5
}
