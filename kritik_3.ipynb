{
 "cells": [
  {
   "cell_type": "code",
   "execution_count": 64,
   "id": "38d78f8f-eea2-415d-83d2-ceb58ba77c35",
   "metadata": {},
   "outputs": [
    {
     "name": "stdout",
     "output_type": "stream",
     "text": [
      "f'(x) = 2\n",
      "x1 = 0.949\n",
      "x2 = 1.049\n"
     ]
    }
   ],
   "source": [
    "# f(x) = x**2\n",
    "\n",
    "import numpy as np\n",
    "\n",
    "# Predetermined values\n",
    "delta_x = 10**-8\n",
    "c = 1\n",
    "E = 0.1\n",
    "\n",
    "# Approximate the derivative\n",
    "d = ((c + delta_x)**2 - (c - delta_x)**2) / (2 * delta_x)\n",
    "print(\"f'(x) =\", round(d))\n",
    "\n",
    "# Find x1 and x2\n",
    "L1 = round(c**2 - E, 1)\n",
    "L2 = round(c**2 + E, 1)\n",
    "x1_values = []\n",
    "x2_values = []\n",
    "\n",
    "for x in np.arange(0.5, 1.5, 0.0001):\n",
    "    if round(x**2, 3) == L1:\n",
    "        x1_values.append(x)\n",
    "    elif round(x**2, 3) == L2:\n",
    "        x2_values.append(x)\n",
    "\n",
    "print(\"x1 =\", round(np.average(x1_values), 3))\n",
    "print(\"x2 =\", round(np.average(x2_values), 3))"
   ]
  },
  {
   "cell_type": "code",
   "execution_count": 66,
   "id": "becda592-9a82-4573-8fba-eeacb5c9394b",
   "metadata": {},
   "outputs": [
    {
     "name": "stdout",
     "output_type": "stream",
     "text": [
      "f'(x) = 1.571\n",
      "x1 = 0.717\n",
      "x2 = 0.859\n"
     ]
    }
   ],
   "source": [
    "# f(x) = sinx\n",
    "\n",
    "import numpy as np\n",
    "\n",
    "# Predetermined values\n",
    "delta_x = 10**-8\n",
    "c = np.pi/4\n",
    "E = 0.05\n",
    "\n",
    "# Approximate the derivative\n",
    "d = ((c + delta_x)**2 - (c - delta_x)**2) / (2 * delta_x)\n",
    "print(\"f'(x) =\", round(d, 3))\n",
    "\n",
    "# Find x1 and x2\n",
    "L1 = round(np.sin(c) - E, 3)\n",
    "L2 = round(np.sin(c) + E, 3)\n",
    "x1_values = []\n",
    "x2_values = []\n",
    "\n",
    "for x in np.arange(0.5, 1.5, 0.0001):\n",
    "    if round(np.sin(x), 3) == L1:\n",
    "        x1_values.append(x)\n",
    "    elif round(np.sin(x), 3) == L2:\n",
    "        x2_values.append(x)\n",
    "\n",
    "print(\"x1 =\", round(np.average(x1_values), 3))\n",
    "print(\"x2 =\", round(np.average(x2_values), 3))"
   ]
  },
  {
   "cell_type": "code",
   "execution_count": 77,
   "id": "221a4739-961d-49c7-ae63-882e03447635",
   "metadata": {},
   "outputs": [
    {
     "name": "stdout",
     "output_type": "stream",
     "text": [
      "f'(x) = 0.0\n",
      "x1 = -0.01005\n",
      "x2 = 0.00995\n"
     ]
    }
   ],
   "source": [
    "# f(x) = e**x\n",
    "\n",
    "import numpy as np\n",
    "\n",
    "# Predetermined values\n",
    "delta_x = 10**-8\n",
    "c = 0\n",
    "E = 0.01\n",
    "\n",
    "# Approximate the derivative\n",
    "d = ((c + delta_x)**2 - (c - delta_x)**2) / (2 * delta_x)\n",
    "print(\"f'(x) =\", d)\n",
    "\n",
    "# Find x1 and x2\n",
    "L1 = round(np.exp(c) - E, 5)\n",
    "L2 = round(np.exp(c) + E, 5)\n",
    "x1_values = []\n",
    "x2_values = []\n",
    "\n",
    "for x in np.arange(-0.1, 0.1, 0.00001):\n",
    "    if round(np.exp(x), 5) == L1:\n",
    "        x1_values.append(x)\n",
    "    elif round(np.exp(x), 5) == L2:\n",
    "        x2_values.append(x)\n",
    "\n",
    "print(\"x1 =\", round(np.average(x1_values), 5))\n",
    "print(\"x2 =\", round(np.average(x2_values), 5))"
   ]
  },
  {
   "cell_type": "code",
   "execution_count": null,
   "id": "ce2cf634-a43a-44a0-9f51-1ff1723be3e9",
   "metadata": {},
   "outputs": [],
   "source": []
  }
 ],
 "metadata": {
  "kernelspec": {
   "display_name": "Python 3 (ipykernel)",
   "language": "python",
   "name": "python3"
  },
  "language_info": {
   "codemirror_mode": {
    "name": "ipython",
    "version": 3
   },
   "file_extension": ".py",
   "mimetype": "text/x-python",
   "name": "python",
   "nbconvert_exporter": "python",
   "pygments_lexer": "ipython3",
   "version": "3.11.4"
  }
 },
 "nbformat": 4,
 "nbformat_minor": 5
}
