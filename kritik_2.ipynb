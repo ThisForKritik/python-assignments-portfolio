{
 "cells": [
  {
   "cell_type": "code",
   "execution_count": 20,
   "id": "599903b5-6016-4d19-a70c-c6b1218b4cdd",
   "metadata": {},
   "outputs": [
    {
     "name": "stdout",
     "output_type": "stream",
     "text": [
      "0\n"
     ]
    }
   ],
   "source": [
    "import numpy as np\n",
    "\n",
    "def funny(x):\n",
    "    if x<=-1:\n",
    "        return 0\n",
    "    elif x>=1:\n",
    "        return 0\n",
    "    else:\n",
    "        return np.exp(1-(1/(1-x**(10**250))))\n",
    "\n",
    "print(funny(-1))"
   ]
  },
  {
   "cell_type": "code",
   "execution_count": 21,
   "id": "9ca8d813-2569-40b5-a6a6-72b815ad539c",
   "metadata": {},
   "outputs": [
    {
     "name": "stdout",
     "output_type": "stream",
     "text": [
      "None\n",
      "0.0\n",
      "None\n",
      "None\n"
     ]
    },
    {
     "name": "stderr",
     "output_type": "stream",
     "text": [
      "/tmp/ipykernel_161/3481778400.py:6: RuntimeWarning: divide by zero encountered in log\n",
      "  y = np.exp(x) + np.log(x)\n"
     ]
    }
   ],
   "source": [
    "import numpy as np\n",
    "\n",
    "# Find root of first function\n",
    "def roots_f1(a, b):\n",
    "    for x in np.arange(a, b, 0.001):\n",
    "        y = np.exp(x) + np.log(x)\n",
    "        if y == 0:\n",
    "            return x\n",
    "\n",
    "# Second function\n",
    "def roots_f2(a, b):\n",
    "    for x in np.arange(a, b, 0.001):\n",
    "        y = np.arctan(x) - x**2\n",
    "        if y == 0:\n",
    "            return x\n",
    "\n",
    "# Third function\n",
    "def roots_f3(a, b):\n",
    "    for x in np.arange(a, b, 0.001):\n",
    "        y = np.sin(x) / np.log(x)\n",
    "        if y == 0:\n",
    "            return x\n",
    "\n",
    "# Fourth function\n",
    "def roots_f4(a, b):\n",
    "    for x in np.arange(a, b, 0.001):\n",
    "        y = np.log(np.cos(x))\n",
    "        if y == 0:\n",
    "            return x\n",
    "\n",
    "print(roots_f1(0, 1.001))\n",
    "print(roots_f2(0, 2.001))\n",
    "print(roots_f3(3, 4.001))\n",
    "print(roots_f4(5, 7.001))"
   ]
  },
  {
   "cell_type": "code",
   "execution_count": null,
   "id": "6fa09e83-4faf-4879-ac29-0d855d64c945",
   "metadata": {},
   "outputs": [],
   "source": []
  }
 ],
 "metadata": {
  "kernelspec": {
   "display_name": "Python 3 (ipykernel)",
   "language": "python",
   "name": "python3"
  },
  "language_info": {
   "codemirror_mode": {
    "name": "ipython",
    "version": 3
   },
   "file_extension": ".py",
   "mimetype": "text/x-python",
   "name": "python",
   "nbconvert_exporter": "python",
   "pygments_lexer": "ipython3",
   "version": "3.11.4"
  }
 },
 "nbformat": 4,
 "nbformat_minor": 5
}
